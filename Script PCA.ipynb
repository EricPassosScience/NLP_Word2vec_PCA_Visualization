{
 "cells": [
  {
   "cell_type": "markdown",
   "metadata": {
    "application/vnd.databricks.v1+cell": {
     "cellMetadata": {},
     "inputWidgets": {},
     "nuid": "22b8adcf-64bb-49f5-b4a7-09b91818d269",
     "showTitle": false,
     "title": ""
    }
   },
   "source": [
    "## Predicción y visualización de palabras basadas en el contexto con PCA"
   ]
  },
  {
   "cell_type": "code",
   "execution_count": 0,
   "metadata": {
    "application/vnd.databricks.v1+cell": {
     "cellMetadata": {
      "byteLimit": 2048000,
      "rowLimit": 10000
     },
     "inputWidgets": {},
     "nuid": "190e64d8-ca79-48a8-bdf0-0e0100b60873",
     "showTitle": false,
     "title": ""
    }
   },
   "outputs": [
    {
     "output_type": "stream",
     "name": "stdout",
     "output_type": "stream",
     "text": [
      "Versión del lenguaje Python utilizada en este Jupyter Notebook: 3.9.5\n"
     ]
    }
   ],
   "source": [
    "# Versión del lenguaje Python\n",
    "from platform import python_version\n",
    "print('Versión del lenguaje Python utilizada en este Jupyter Notebook:', python_version())"
   ]
  },
  {
   "cell_type": "code",
   "execution_count": 0,
   "metadata": {
    "application/vnd.databricks.v1+cell": {
     "cellMetadata": {
      "byteLimit": 2048000,
      "rowLimit": 10000
     },
     "inputWidgets": {},
     "nuid": "a17f9d9f-e3aa-4d74-acfb-3b1de4274bb9",
     "showTitle": false,
     "title": ""
    }
   },
   "outputs": [
    {
     "output_type": "stream",
     "name": "stdout",
     "output_type": "stream",
     "text": [
      "\u001B[33mWARNING: You are using pip version 21.2.4; however, version 23.1.2 is available.\r\nYou should consider upgrading via the '/local_disk0/.ephemeral_nfs/envs/pythonEnv-80dd82d0-895b-49fd-a9d5-06b0a13519c0/bin/python -m pip install --upgrade pip' command.\u001B[0m\r\n\u001B[33mWARNING: You are using pip version 21.2.4; however, version 23.1.2 is available.\r\nYou should consider upgrading via the '/local_disk0/.ephemeral_nfs/envs/pythonEnv-80dd82d0-895b-49fd-a9d5-06b0a13519c0/bin/python -m pip install --upgrade pip' command.\u001B[0m\r\n\u001B[33mWARNING: You are using pip version 21.2.4; however, version 23.1.2 is available.\r\nYou should consider upgrading via the '/local_disk0/.ephemeral_nfs/envs/pythonEnv-80dd82d0-895b-49fd-a9d5-06b0a13519c0/bin/python -m pip install --upgrade pip' command.\u001B[0m\r\n"
     ]
    }
   ],
   "source": [
    "# Para actualizar un paquete, ejecute el siguiente comando en una terminal o símbolo del sistema:\n",
    "# pip install -U nome_pacote\n",
    "\n",
    "# Para instalar la versión exacta de un paquete, ejecute el siguiente comando en una terminal o símbolo del sistema:\n",
    "# !pip install torch==1.5.0\n",
    "\n",
    "# Después de instalar o actualizar el paquete, reinicie el cuaderno jupyter.\n",
    "\n",
    "# Instale el paquete de marca de agua.\n",
    "# Este paquete se usa para escribir versiones de otros paquetes usados ​​en este cuaderno jupyter.\n",
    "!pip install -q -U watermark\n",
    "\n",
    "# Instalar PyTorch\n",
    "!pip install -q torch\n",
    "\n",
    "# Paquete para gráficos con Scikit-learn\n",
    "!pip install -q scikit-plot"
   ]
  },
  {
   "cell_type": "code",
   "execution_count": 0,
   "metadata": {
    "application/vnd.databricks.v1+cell": {
     "cellMetadata": {
      "byteLimit": 2048000,
      "rowLimit": 10000
     },
     "inputWidgets": {},
     "nuid": "01e9c45f-c2d6-4824-8462-1aceaa9f41c6",
     "showTitle": false,
     "title": ""
    }
   },
   "outputs": [],
   "source": [
    "# Imports\n",
    "import torch\n",
    "import scipy\n",
    "import sklearn\n",
    "import scikitplot\n",
    "import numpy as np\n",
    "import torch.nn.functional as F\n",
    "from torch.optim import SGD\n",
    "from torch.autograd import Variable, profiler\n",
    "from sklearn.decomposition import PCA\n",
    "from scipy.spatial.distance import cosine\n",
    "from scikitplot.decomposition import plot_pca_2d_projection\n",
    "%matplotlib inline"
   ]
  },
  {
   "cell_type": "code",
   "execution_count": 0,
   "metadata": {
    "application/vnd.databricks.v1+cell": {
     "cellMetadata": {
      "byteLimit": 2048000,
      "rowLimit": 10000
     },
     "inputWidgets": {},
     "nuid": "d6034176-c2c3-4cc7-9b8c-63adaaa57493",
     "showTitle": false,
     "title": ""
    }
   },
   "outputs": [
    {
     "output_type": "stream",
     "name": "stdout",
     "output_type": "stream",
     "text": [
      "Author: Eric Passos\n\nscipy     : 1.7.1\nsklearn   : 0.24.2\ntorch     : 1.12.1+cpu\nnumpy     : 1.20.3\nscikitplot: 0.3.7\n\n"
     ]
    }
   ],
   "source": [
    "# Versiones de paquetes utilizados en este cuaderno jupyter\n",
    "%reload_ext watermark\n",
    "%watermark -a \"Eric Passos\" --iversions"
   ]
  },
  {
   "cell_type": "markdown",
   "metadata": {
    "application/vnd.databricks.v1+cell": {
     "cellMetadata": {},
     "inputWidgets": {},
     "nuid": "c9280e92-5842-449a-bf5d-7455e1dddd48",
     "showTitle": false,
     "title": ""
    }
   },
   "source": [
    "### Preparación de datos"
   ]
  },
  {
   "cell_type": "code",
   "execution_count": 0,
   "metadata": {
    "application/vnd.databricks.v1+cell": {
     "cellMetadata": {
      "byteLimit": 2048000,
      "rowLimit": 10000
     },
     "inputWidgets": {},
     "nuid": "ded0e570-947d-4f56-a4ac-8dc905aec168",
     "showTitle": false,
     "title": ""
    }
   },
   "outputs": [],
   "source": [
    "# Corpus\n",
    "corpus = ['ele é um rei',\n",
    "          'ela é uma rainha',\n",
    "          'ele é um homem',\n",
    "          'ela é uma mulher',\n",
    "          'Madrid é a capital da Espanha',\n",
    "          'Berlim é a capital da Alemanha',\n",
    "          'Lisboa é a capital de Portugal']\n",
    "\n",
    "# # Construyendo vocabulario con tokenización\n",
    "palavras = []\n",
    "for sentence in corpus:\n",
    "    for palavra in sentence.split():\n",
    "         if palavra not in palavras:\n",
    "            palavras.append(palavra)\n",
    "\n",
    "# Visualizar los datos\n",
    "#palavras"
   ]
  },
  {
   "cell_type": "code",
   "execution_count": 0,
   "metadata": {
    "application/vnd.databricks.v1+cell": {
     "cellMetadata": {
      "byteLimit": 2048000,
      "rowLimit": 10000
     },
     "inputWidgets": {},
     "nuid": "106a7bd5-776b-4bea-ade5-759f0c33040c",
     "showTitle": false,
     "title": ""
    }
   },
   "outputs": [],
   "source": [
    "# Creamos la palabra - mapeo de índice\n",
    "word2idx = {w:idx for (idx, w) in enumerate(palavras)}\n",
    "#word2idx\n",
    "\n",
    "# Creamos el índice de mapeo inverso - palabra\n",
    "idx2word = {idx:w for (idx, w) in enumerate(palavras)}\n",
    "#idx2word"
   ]
  },
  {
   "cell_type": "code",
   "execution_count": 0,
   "metadata": {
    "application/vnd.databricks.v1+cell": {
     "cellMetadata": {
      "byteLimit": 2048000,
      "rowLimit": 10000
     },
     "inputWidgets": {},
     "nuid": "5b17d305-63c1-4982-8264-df57b896f2f9",
     "showTitle": false,
     "title": ""
    }
   },
   "outputs": [
    {
     "output_type": "stream",
     "name": "stdout",
     "output_type": "stream",
     "text": [
      "Out[8]: 19"
     ]
    }
   ],
   "source": [
    "# Tamaño del vocabulario\n",
    "tamanho_vocab = len(word2idx)\n",
    "tamanho_vocab"
   ]
  },
  {
   "cell_type": "markdown",
   "metadata": {
    "application/vnd.databricks.v1+cell": {
     "cellMetadata": {},
     "inputWidgets": {},
     "nuid": "5e99e57a-1779-4a29-aa05-f8fe69df9859",
     "showTitle": false,
     "title": ""
    }
   },
   "source": [
    "### Construcción del modelo"
   ]
  },
  {
   "cell_type": "code",
   "execution_count": 0,
   "metadata": {
    "application/vnd.databricks.v1+cell": {
     "cellMetadata": {
      "byteLimit": 2048000,
      "rowLimit": 10000
     },
     "inputWidgets": {},
     "nuid": "96774990-a0ed-4dc7-b8d7-6d1949523fc7",
     "showTitle": false,
     "title": ""
    }
   },
   "outputs": [],
   "source": [
    "# Función para generar las embeddings\n",
    "def get_word_embedding(word):\n",
    "    word_vec_one_hot = np.zeros(tamanho_vocab)\n",
    "    word_vec_one_hot[word2idx[word]] = 1\n",
    "    return word_vec_one_hot\n",
    "\n",
    "# Función para generar los vectores, de la palabra central y del contexto\n",
    "def gera_vetores():\n",
    "    for sentence in corpus:\n",
    "        words = sentence.split()\n",
    "        indices = [word2idx[w] for w in words]\n",
    "        \n",
    "        # Bucle a través del rango de índice\n",
    "        # Aquí generamos el vector de la palabra central en i\n",
    "        # (daqui para frente somente comentários em Português)\n",
    "        # E geramos o vetor de contexto\n",
    "        for i in range(len(indices)):\n",
    "            for w in range(-window_size, window_size + 1):\n",
    "                context_idx = i + w\n",
    "                if context_idx < 0 or context_idx >= len(indices) or i == context_idx:\n",
    "                    continue\n",
    "                    \n",
    "                # Gera os vetores    \n",
    "                center_vec_one_hot = np.zeros(tamanho_vocab)\n",
    "                center_vec_one_hot[indices[i]] = 1\n",
    "                context_idx = indices[context_idx]\n",
    "                                \n",
    "                yield center_vec_one_hot, context_idx"
   ]
  },
  {
   "cell_type": "code",
   "execution_count": 0,
   "metadata": {
    "application/vnd.databricks.v1+cell": {
     "cellMetadata": {
      "byteLimit": 2048000,
      "rowLimit": 10000
     },
     "inputWidgets": {},
     "nuid": "38a3b2d1-92e2-4cf0-9fd7-4c4668788257",
     "showTitle": false,
     "title": ""
    }
   },
   "outputs": [],
   "source": [
    "# Hiperparâmetros\n",
    "embedding_dims = 10\n",
    "window_size = 2"
   ]
  },
  {
   "cell_type": "markdown",
   "metadata": {
    "application/vnd.databricks.v1+cell": {
     "cellMetadata": {},
     "inputWidgets": {},
     "nuid": "cc0ff0eb-7c04-4d2a-838a-d4aac598350e",
     "showTitle": false,
     "title": ""
    }
   },
   "source": [
    "Definición de pesos de redes neuronales.\n",
    "- W1 es una matriz de pesos de dimensión embedding_dims x tamanho_vocab\n",
    "- W2 es una matriz de pesos de dimensión tamanho_vocab x embedding_dims\n",
    "\n",
    "Los pesos (o coeficientes o parámetros) son lo que la red aprende durante el entrenamiento. Como al principio no sabemos el valor ideal de los pesos (esto es lo que queremos averiguar) empezamos con valores aleatorios usando torch.randn().\n",
    "\n",
    "Al final del aprendizaje, el modelo en sí no es más que los valores ideales de W1 y W2."
   ]
  },
  {
   "cell_type": "code",
   "execution_count": 0,
   "metadata": {
    "application/vnd.databricks.v1+cell": {
     "cellMetadata": {
      "byteLimit": 2048000,
      "rowLimit": 10000
     },
     "inputWidgets": {},
     "nuid": "63790c74-85ab-487c-8b9a-f552c9099b0e",
     "showTitle": false,
     "title": ""
    },
    "scrolled": true
   },
   "outputs": [
    {
     "output_type": "stream",
     "name": "stdout",
     "output_type": "stream",
     "text": [
      "\nIniciando o Treinamento...\n\nErro de Treinamento: 6.4481293912580675\nErro de Treinamento: 4.354798193307633\nErro de Treinamento: 3.6478042754721134\nErro de Treinamento: 3.2393978396628764\nErro de Treinamento: 2.9573072683303914\nErro de Treinamento: 2.745000735876408\nErro de Treinamento: 2.5758462808233626\nErro de Treinamento: 2.43539630161955\nErro de Treinamento: 2.316802277209911\nErro de Treinamento: 2.217510135883981\nErro de Treinamento: 2.1370442864742687\nErro de Treinamento: 2.0736552831974437\nErro de Treinamento: 2.0226839381329556\nErro de Treinamento: 1.97966827040023\nErro de Treinamento: 1.9421136303150908\nErro de Treinamento: 1.9087961461949856\nErro de Treinamento: 1.879022106845328\nErro de Treinamento: 1.8523121939060536\nErro de Treinamento: 1.8282851792396384\nErro de Treinamento: 1.806617337338468\nErro de Treinamento: 1.7870267775464566\nErro de Treinamento: 1.7692685463327043\nErro de Treinamento: 1.7531310034559129\nErro de Treinamento: 1.7384324758610827\nErro de Treinamento: 1.7250173897185224\nErro de Treinamento: 1.7127520403963454\nErro de Treinamento: 1.701520805663251\nErro de Treinamento: 1.6912222384138311\nErro de Treinamento: 1.6817671073243974\nErro de Treinamento: 1.6730755225140999\nErro de Treinamento: 1.6650759089500347\nErro de Treinamento: 1.6577034091695826\nErro de Treinamento: 1.6508994527319645\nErro de Treinamento: 1.644610420820561\nErro de Treinamento: 1.6387889309132353\nErro de Treinamento: 1.6333912591984932\nErro de Treinamento: 1.628378615100333\nErro de Treinamento: 1.6237162472085749\nErro de Treinamento: 1.619372842793769\nErro de Treinamento: 1.615320437766136\nErro de Treinamento: 1.611534263859404\nErro de Treinamento: 1.6079915134196585\nErro de Treinamento: 1.60467226074097\nErro de Treinamento: 1.601558505220616\nErro de Treinamento: 1.598633941183699\nErro de Treinamento: 1.5958840637765033\nErro de Treinamento: 1.5932952926513997\nErro de Treinamento: 1.5908557316090197\nErro de Treinamento: 1.5885544121265411\nErro de Treinamento: 1.5863815343126337\nErro de Treinamento: 1.5843279570975202\nErro de Treinamento: 1.582385465185693\nErro de Treinamento: 1.580546279536917\nErro de Treinamento: 1.5788037307718967\nErro de Treinamento: 1.577151432316354\nErro de Treinamento: 1.5755835663765034\nErro de Treinamento: 1.5740947095637625\nErro de Treinamento: 1.572679931813098\nErro de Treinamento: 1.5713346771737362\nErro de Treinamento: 1.5700547771250948\nErro de Treinamento: 1.5688362812742274\nErro de Treinamento: 1.5676754662331114\nErro de Treinamento: 1.5665691792964935\nErro de Treinamento: 1.5655140902133697\nErro de Treinamento: 1.5645072878675257\nErro de Treinamento: 1.5635460000088874\nErro de Treinamento: 1.5626277650924438\nErro de Treinamento: 1.5617501615209783\nErro de Treinamento: 1.560911034015899\nErro de Treinamento: 1.5601081537439467\nErro de Treinamento: 1.559339555020028\nErro de Treinamento: 1.5586035042367083\nErro de Treinamento: 1.557898060438481\nErro de Treinamento: 1.5572218933004014\nErro de Treinamento: 1.5565731962944598\nErro de Treinamento: 1.5559507088458284\nErro de Treinamento: 1.5553531659410356\nErro de Treinamento: 1.5547790470275473\nErro de Treinamento: 1.5542272874649534\nErro de Treinamento: 1.5536968784129366\nErro de Treinamento: 1.553186575148968\nErro de Treinamento: 1.5526955901308264\nErro de Treinamento: 1.5522228035521\nErro de Treinamento: 1.551767424700108\nErro de Treinamento: 1.5513286501803296\nErro de Treinamento: 1.5509055599253228\nErro de Treinamento: 1.5504975293545014\nErro de Treinamento: 1.5501037538051605\nErro de Treinamento: 1.5497238274584426\nErro de Treinamento: 1.5493567091353395\nErro de Treinamento: 1.5490021794400317\nErro de Treinamento: 1.548659363959698\nErro de Treinamento: 1.5483280952940597\nErro de Treinamento: 1.5480076721374025\nErro de Treinamento: 1.5476975707297629\nErro de Treinamento: 1.5473974848047216\nErro de Treinamento: 1.547106980643374\nErro de Treinamento: 1.5468256036017805\nErro de Treinamento: 1.5465529402519793\nErro de Treinamento: 1.5462886849616437\nErro de Treinamento: 1.546032410352788\n\nTreinamento Concluído.\n"
     ]
    }
   ],
   "source": [
    "# Definição dos pesos da rede neural\n",
    "W1 = Variable(torch.randn(embedding_dims, tamanho_vocab).float(), requires_grad = True)\n",
    "W2 = Variable(torch.randn(tamanho_vocab, embedding_dims).float(), requires_grad = True)\n",
    "\n",
    "# Treinamento\n",
    "print(\"\\nIniciando o Treinamento...\\n\")\n",
    "for epoch in range(1001):\n",
    "    \n",
    "    # Inicializa o erro médio da rede\n",
    "    avg_loss = 0\n",
    "    \n",
    "    # Inicializa o controle do número de amostras\n",
    "    samples = 0\n",
    "    \n",
    "    # Loop pelos dados (vetores de entrada)\n",
    "    for data, target in gera_vetores():\n",
    "        \n",
    "        # Coleta x (vetor da palavra central)\n",
    "        x = Variable(torch.from_numpy(data)).float()\n",
    "        \n",
    "        # Coleta y (vetor do contexto)\n",
    "        y_true = Variable(torch.from_numpy(np.array([target])).long())\n",
    "        \n",
    "        # Atualiza o número de amostras\n",
    "        samples += len(y_true)\n",
    "        \n",
    "        # Resultado da multiplicação entre os pesos e as primeiras camadas da rede\n",
    "        a1 = torch.matmul(W1, x)\n",
    "        a2 = torch.matmul(W2, a1)\n",
    "\n",
    "        # A função softmax entrega a probabilidade da previsão da rede\n",
    "        log_softmax = F.log_softmax(a2, dim = 0)\n",
    "\n",
    "        # Previsão da rede\n",
    "        network_pred_dist = F.softmax(log_softmax, dim = 0)\n",
    "        \n",
    "        # Calcula o erro, comparando a previsão da rede com o valor real \n",
    "        # (como fazemos em qualquer modelo de aprendizagem supervisionada)\n",
    "        loss = F.nll_loss(log_softmax.view(1,-1), y_true)\n",
    "        \n",
    "        # Erro médio\n",
    "        avg_loss += loss.item()\n",
    "        \n",
    "        # Inicia o backpropagation\n",
    "        loss.backward()\n",
    "\n",
    "        # Atualiza o valor dos pesos para a próxima passada\n",
    "        W1.data -= 0.002 * W1.grad.data\n",
    "        W2.data -= 0.002 * W2.grad.data\n",
    "\n",
    "        # Zera o valor do gradiente depois de atualizar os pesos\n",
    "        W1.grad.data.zero_()\n",
    "        W2.grad.data.zero_()\n",
    "        \n",
    "    # Imprime o erro da rede\n",
    "    if epoch % 10 == 0:\n",
    "        print('Erro de Treinamento:', avg_loss / samples)\n",
    "\n",
    "print(\"\\nTreinamento Concluído.\")"
   ]
  },
  {
   "cell_type": "markdown",
   "metadata": {
    "application/vnd.databricks.v1+cell": {
     "cellMetadata": {},
     "inputWidgets": {},
     "nuid": "dba1d78d-625c-4522-b190-0b35ea086032",
     "showTitle": false,
     "title": ""
    }
   },
   "source": [
    "### Pruebas de modelos y reducción de dimensionalidad con PCA\n",
    "\n",
    "Para probar el modelo, todo lo que necesitamos son los pesos, en nuestro ejemplo W1 y W2. Pero visualizar los datos es un desafío ya que la dimensionalidad es alta y cuanto mayor es la cantidad de palabras de vocabulario, más complicado.\n",
    "\n",
    "Una alternativa es reducir la dimensionalidad de los datos. Convertimos todos los atributos en 2 componentes principales usando PCA (Principal Component Analysis) y con 2 componentes podemos visualizar los datos.\n",
    "\n",
    "Cada componente principal no es más que la combinación matemática de información en otras variables. PCA es un algoritmo de aprendizaje automático por derecho propio, de la categoría de aprendizaje no supervisado.\n",
    "\n",
    "Apliquemos PCA para visualizar los datos."
   ]
  },
  {
   "cell_type": "code",
   "execution_count": 0,
   "metadata": {
    "application/vnd.databricks.v1+cell": {
     "cellMetadata": {
      "byteLimit": 2048000,
      "rowLimit": 10000
     },
     "inputWidgets": {},
     "nuid": "4a978893-2654-4f0d-b70d-a7c30548473d",
     "showTitle": false,
     "title": ""
    },
    "scrolled": true
   },
   "outputs": [
    {
     "output_type": "display_data",
     "data": {
      "image/png": "[encoded data removed]"
     },
     "metadata": {
      "application/vnd.databricks.v1+output": {
       "addedWidgets": {},
       "arguments": {},
       "data": "data:image/png;base64,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\n",
       "datasetInfos": [],
       "metadata": {},
       "removedWidgets": [],
       "type": "image"
      }
     },
     "output_type": "display_data"
    }
   ],
   "source": [
    "# Cria o objeto para redução de dimensionalidade\n",
    "pca = PCA(n_components = 2)\n",
    "\n",
    "# Treina o modelo PCA\n",
    "pca.fit(W1.data.numpy().T)\n",
    "\n",
    "# Calcula a projeção PCA para o Plot\n",
    "proj = pca.transform(W1.data.numpy().T)\n",
    "\n",
    "# Plot\n",
    "ax = plot_pca_2d_projection(pca, \n",
    "                            W1.data.numpy().T, \n",
    "                            np.array(palavras), \n",
    "                            feature_labels = palavras, \n",
    "                            figsize = (16,10), \n",
    "                            text_fontsize = 12)\n",
    "\n",
    "# Legenda\n",
    "for i, txt in enumerate(palavras):\n",
    "    ax.annotate(txt, (proj[i,0], proj[i,1]), size = 15)"
   ]
  },
  {
   "cell_type": "markdown",
   "metadata": {
    "application/vnd.databricks.v1+cell": {
     "cellMetadata": {},
     "inputWidgets": {},
     "nuid": "121a3ff2-1fe9-48a2-8e9b-a481d10709d7",
     "showTitle": false,
     "title": ""
    }
   },
   "source": [
    "¡Observe la leyenda en el gráfico de arriba! Las palabras similares basadas en el contexto están \"punteadas\" en colores similares. En la parte superior de la lista están los países y las ciudades, luego los pronombres y la palabra \"capital\", luego el hombre, la mujer, la reina y el rey, y finalmente los artículos y un verbo.\n",
    "\n",
    "Todo esto lo aprendió la red en base al contexto, que no es más que la distancia del coseno entre las incrustaciones, los vectores que representan las palabras.\n",
    "\n",
    "La visualización anterior muestra que las palabras que están en la misma dirección tienen cierta similitud, por ejemplo, \"Alemania\" y \"Berlín\". Dibuja una línea recta imaginaria que \"corte\" las palabras \"Alemania\" y \"Berlín\". Logra? Si la respuesta es sí, las palabras son similares. A continuación se muestra otro ejemplo.\n",
    "\n",
    "Extraigamos las distancias basándonos en la pregunta:"
   ]
  },
  {
   "cell_type": "markdown",
   "metadata": {
    "application/vnd.databricks.v1+cell": {
     "cellMetadata": {},
     "inputWidgets": {},
     "nuid": "f9b74056-0882-4166-99cf-0a6404fdc299",
     "showTitle": false,
     "title": ""
    }
   },
   "source": [
    "**España es a Madrid lo que Alemania es a ?**\n",
    "\n",
    "Preguntémosle al modelo."
   ]
  },
  {
   "cell_type": "code",
   "execution_count": 0,
   "metadata": {
    "application/vnd.databricks.v1+cell": {
     "cellMetadata": {
      "byteLimit": 2048000,
      "rowLimit": 10000
     },
     "inputWidgets": {},
     "nuid": "947d4892-4f1e-4e67-8837-fd390e8ca8ed",
     "showTitle": false,
     "title": ""
    }
   },
   "outputs": [
    {
     "output_type": "stream",
     "name": "stdout",
     "output_type": "stream",
     "text": [
      "Out[13]: array([-1.4957035 ,  2.9762697 , -0.22803485, -3.236721  , -0.83437204,\n        0.2375148 ,  4.275031  ,  0.39417887,  1.2541492 ,  2.0929558 ],\n      dtype=float32)"
     ]
    }
   ],
   "source": [
    "# Função para obter um vetor de palavras no peso W1 (esse é o contexto)\n",
    "def get_word_vector_v(word):\n",
    "    return W1[:, word2idx[word]].data.numpy()\n",
    "\n",
    "# Função para obter um vetor de palavras no peso W2 (essa é a palavra central)\n",
    "def get_word_vector_u(word):\n",
    "    return W2[word2idx[word],:].data.numpy()\n",
    "\n",
    "# Vamos obter os vetores das palavras\n",
    "espanha = 1 * get_word_vector_v('Espanha') + 1 * get_word_vector_u('Espanha')\n",
    "alemanha = 1 * get_word_vector_v('Alemanha') + 1 * get_word_vector_u('Alemanha') \n",
    "madrid = 1 * get_word_vector_v('Madrid') + 1 * get_word_vector_u('Madrid')\n",
    "\n",
    "# Resultado\n",
    "resultado = madrid - espanha + alemanha\n",
    "\n",
    "# Este é o resultado, ou seja, uma embedding que representa a palavra mais similar à palavra \"Alemanha\",\n",
    "# com base na similaridade (contexto) entre \"Polônia\" e \"Varsóvia\".\n",
    "resultado"
   ]
  },
  {
   "cell_type": "code",
   "execution_count": 0,
   "metadata": {
    "application/vnd.databricks.v1+cell": {
     "cellMetadata": {
      "byteLimit": 2048000,
      "rowLimit": 10000
     },
     "inputWidgets": {},
     "nuid": "57b52d50-f895-4629-8da7-14c30d65628d",
     "showTitle": false,
     "title": ""
    }
   },
   "outputs": [
    {
     "output_type": "stream",
     "name": "stdout",
     "output_type": "stream",
     "text": [
      "Out[14]: [('ele', 1.124088615179062),\n ('é', 0.6856277287006378),\n ('um', 1.4345101714134216),\n ('rei', 1.5316073894500732),\n ('ela', 0.7210364043712616),\n ('uma', 0.7048457860946655),\n ('rainha', 0.9631597511470318),\n ('homem', 1.1097887605428696),\n ('mulher', 1.2006993889808655),\n ('Madrid', 0.19002974033355713),\n ('a', 0.2693604826927185),\n ('capital', 0.7435624897480011),\n ('da', 0.7924654185771942),\n ('Espanha', 1.2620294690132141),\n ('Berlim', 0.3496047258377075),\n ('Alemanha', 0.485362708568573),\n ('Lisboa', 0.6760610044002533),\n ('de', 0.8173457980155945),\n ('Portugal', 0.9434079714119434)]"
     ]
    }
   ],
   "source": [
    "# Vamos extrair as distâncias de todas as outras palavras para a nossa palavra \"secreta\" que está \n",
    "# no vetor embedding chamado \"resultado\"\n",
    "# Usamos a função cosine() do SciPy para calcular as distâncias\n",
    "distancias = [(v, cosine(resultado, 1 * get_word_vector_u(v) + 1 * get_word_vector_v(v))) for v in palavras]\n",
    "\n",
    "# Visualiza as distâncias\n",
    "distancias"
   ]
  },
  {
   "cell_type": "markdown",
   "metadata": {
    "application/vnd.databricks.v1+cell": {
     "cellMetadata": {},
     "inputWidgets": {},
     "nuid": "9fd26ac5-23f3-4842-9d10-9d398fba2da4",
     "showTitle": false,
     "title": ""
    }
   },
   "source": [
    "Arriba tenemos una lista de tuplas con las distancias de cada palabra para nuestro \"resultado\". Ordenemos esto."
   ]
  },
  {
   "cell_type": "code",
   "execution_count": 0,
   "metadata": {
    "application/vnd.databricks.v1+cell": {
     "cellMetadata": {
      "byteLimit": 2048000,
      "rowLimit": 10000
     },
     "inputWidgets": {},
     "nuid": "0dbfd517-5a07-42a4-8b69-5aaed8a1beef",
     "showTitle": false,
     "title": ""
    }
   },
   "outputs": [
    {
     "output_type": "stream",
     "name": "stdout",
     "output_type": "stream",
     "text": [
      "Out[15]: [('Madrid', 0.19002974033355713),\n ('a', 0.2693604826927185),\n ('Berlim', 0.3496047258377075),\n ('Alemanha', 0.485362708568573),\n ('Lisboa', 0.6760610044002533),\n ('é', 0.6856277287006378),\n ('uma', 0.7048457860946655),\n ('ela', 0.7210364043712616),\n ('capital', 0.7435624897480011),\n ('da', 0.7924654185771942),\n ('de', 0.8173457980155945),\n ('Portugal', 0.9434079714119434),\n ('rainha', 0.9631597511470318),\n ('homem', 1.1097887605428696),\n ('ele', 1.124088615179062),\n ('mulher', 1.2006993889808655),\n ('Espanha', 1.2620294690132141),\n ('um', 1.4345101714134216),\n ('rei', 1.5316073894500732)]"
     ]
    }
   ],
   "source": [
    "# Ordenando a lista de tuplas pelo segundo elemento da tupla\n",
    "distancias.sort(key = lambda tup: tup[1])\n",
    "\n",
    "# Agora sim\n",
    "distancias"
   ]
  },
  {
   "cell_type": "markdown",
   "metadata": {
    "application/vnd.databricks.v1+cell": {
     "cellMetadata": {},
     "inputWidgets": {},
     "nuid": "72e195b2-c8b1-487f-858e-897e3ffdf220",
     "showTitle": false,
     "title": ""
    }
   },
   "source": [
    "El vector \"resultado\" fue una predicción de nuestro modelo y las palabras \"Madrid\" y \"Berlín\" son las más similares. Tenga en cuenta que \"Berlín\" es la palabra más similar según el contexto, ya que Madrid ya se usó en nuestra fórmula.\n",
    "\n",
    "Imagina que un vector (una flecha) parte del origen del sistema de coordenadas (Honestidad = 0 y Experiencia = 0, lo llamaremos punto O) y termina en el punto X. Este vector se usa para ubicar el punto en nuestra característica espacio. No es diferente a simplemente decir que X tiene H = 0.4 y E = 0.2, es solo otra forma de verlo.\n",
    "\n",
    "![cos](https://user-images.githubusercontent.com/97414922/236580548-cccafda6-fabd-4a49-8fdd-cd4e32db454b.png)\n",
    "\n",
    "Si sabemos cuál es el ángulo entre los vectores X y A, podemos usar una calculadora simple y calcular la similitud. Podemos ver en la imagen de arriba que los vectores de X y A están en la misma línea recta (observe los colores de los círculos en la leyenda), por lo que el ángulo entre ellos es de cero grados y su similitud es cos(0) = 1 .semejanza entre X y B no sabemos el ángulo y necesitamos usar una ecuación. El numerador (la parte superior de la división) significa multiplicar los valores de Honestidad X y B y sumar con la multiplicación de los valores Experiencia X y B.\n",
    "\n",
    "Eso es lo que hace Word2vec. Brillante, ¿no?"
   ]
  },
  {
   "cell_type": "markdown",
   "metadata": {
    "application/vnd.databricks.v1+cell": {
     "cellMetadata": {},
     "inputWidgets": {},
     "nuid": "e38a7409-7597-4891-aeb2-d8787d1f0e75",
     "showTitle": false,
     "title": ""
    }
   },
   "source": [
    "**¿En qué contexto aparece la palabra Lisboa?**\n",
    "\n",
    "Aquí es como si estuviéramos usando el modelo para la predicción."
   ]
  },
  {
   "cell_type": "code",
   "execution_count": 0,
   "metadata": {
    "application/vnd.databricks.v1+cell": {
     "cellMetadata": {
      "byteLimit": 2048000,
      "rowLimit": 10000
     },
     "inputWidgets": {},
     "nuid": "17ddfdf5-b75c-4367-8b57-2a8a02d76b49",
     "showTitle": false,
     "title": ""
    }
   },
   "outputs": [
    {
     "output_type": "stream",
     "name": "stdout",
     "output_type": "stream",
     "text": [
      "ele: 0.0028529553674161434\né: 0.48537003993988037\num: 1.615015571587719e-05\nrei: 0.0025090354029089212\nela: 0.0001439100451534614\numa: 0.0006580750923603773\nrainha: 0.00012043897004332393\nhomem: 0.0003027277998626232\nmulher: 7.115796961443266e-06\nMadrid: 0.004290546290576458\na: 0.4954136908054352\ncapital: 2.9249453291413374e-05\nda: 0.00027194686117582023\nEspanha: 0.0014903655974194407\nBerlim: 0.0005157387931831181\nAlemanha: 0.0037149344570934772\nLisboa: 0.00022301971330307424\nde: 0.0019152986351400614\nPortugal: 0.00015486172924283892\n"
     ]
    }
   ],
   "source": [
    "# Extrai o contexto\n",
    "context_to_predict = get_word_vector_v('Lisboa')\n",
    "\n",
    "# Variável com o contexto a prever\n",
    "hidden = Variable(torch.from_numpy(context_to_predict)).float()\n",
    "\n",
    "# Executa o modelo e extrai as probabilidades \n",
    "# (executar o modelo nada mais é do que multiplicar os novos dados de entrada pelos pesos aprendidos no treinamento)\n",
    "a = torch.matmul(W2, hidden)\n",
    "probs = F.softmax(a, dim = 0).data.numpy()\n",
    "\n",
    "# Imprime o resultado\n",
    "for context, prob in zip(palavras, probs):\n",
    "    print(f'{context}: {prob}')"
   ]
  },
  {
   "cell_type": "markdown",
   "metadata": {
    "application/vnd.databricks.v1+cell": {
     "cellMetadata": {},
     "inputWidgets": {},
     "nuid": "7952b0a8-07d4-42d5-bfde-0a13bfcb7538",
     "showTitle": false,
     "title": ""
    }
   },
   "source": [
    "El contexto de la palabra \"Lisboa\" está representado por las palabras \"é\", \"a\", \"Portugal\".\n",
    "\n",
    "Nuestro modelo no pudo aprender el contexto \"capital\". Tal vez pueda optimizar el entrenamiento del modelo y aumentar su precisión."
   ]
  },
  {
   "cell_type": "markdown",
   "metadata": {
    "application/vnd.databricks.v1+cell": {
     "cellMetadata": {},
     "inputWidgets": {},
     "nuid": "11916df3-168c-4bfe-923e-2726af1394c8",
     "showTitle": false,
     "title": ""
    }
   },
   "source": [
    "# Fin"
   ]
  }
 ],
 "metadata": {
  "application/vnd.databricks.v1+notebook": {
   "dashboards": [],
   "language": "python",
   "notebookMetadata": {
    "pythonIndentUnit": 2
   },
   "notebookName": "Script PCA",
   "notebookOrigID": 3402468428839120,
   "widgets": {}
  },
  "kernelspec": {
   "display_name": "Python 3",
   "language": "python",
   "name": "python3"
  },
  "language_info": {
   "codemirror_mode": {
    "name": "ipython",
    "version": 3
   },
   "file_extension": ".py",
   "mimetype": "text/x-python",
   "name": "python",
   "nbconvert_exporter": "python",
   "pygments_lexer": "ipython3",
   "version": "3.7.6"
  }
 },
 "nbformat": 4,
 "nbformat_minor": 0
}
